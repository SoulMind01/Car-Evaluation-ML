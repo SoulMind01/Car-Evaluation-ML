{
 "cells": [
  {
   "cell_type": "code",
   "execution_count": 1,
   "metadata": {},
   "outputs": [
    {
     "name": "stdout",
     "output_type": "stream",
     "text": [
      "(CVXPY) Dec 06 12:25:21 PM: Encountered unexpected exception importing solver OSQP:\n",
      "ImportError('DLL load failed while importing qdldl: 找不到指定的模块。')\n"
     ]
    }
   ],
   "source": [
    "import cvxpy as cp\n",
    "import numpy as np\n",
    "import pandas as pd\n",
    "import matplotlib.pyplot as plt"
   ]
  },
  {
   "cell_type": "code",
   "execution_count": 34,
   "metadata": {},
   "outputs": [
    {
     "name": "stdout",
     "output_type": "stream",
     "text": [
      "<class 'pandas.core.frame.DataFrame'>\n",
      "RangeIndex: 1728 entries, 0 to 1727\n",
      "Data columns (total 25 columns):\n",
      " #   Column   Non-Null Count  Dtype\n",
      "---  ------   --------------  -----\n",
      " 0   0_high   1728 non-null   bool \n",
      " 1   0_low    1728 non-null   bool \n",
      " 2   0_med    1728 non-null   bool \n",
      " 3   0_vhigh  1728 non-null   bool \n",
      " 4   1_high   1728 non-null   bool \n",
      " 5   1_low    1728 non-null   bool \n",
      " 6   1_med    1728 non-null   bool \n",
      " 7   1_vhigh  1728 non-null   bool \n",
      " 8   2_2      1728 non-null   bool \n",
      " 9   2_3      1728 non-null   bool \n",
      " 10  2_4      1728 non-null   bool \n",
      " 11  2_5more  1728 non-null   bool \n",
      " 12  3_2      1728 non-null   bool \n",
      " 13  3_4      1728 non-null   bool \n",
      " 14  3_more   1728 non-null   bool \n",
      " 15  4_big    1728 non-null   bool \n",
      " 16  4_med    1728 non-null   bool \n",
      " 17  4_small  1728 non-null   bool \n",
      " 18  5_high   1728 non-null   bool \n",
      " 19  5_low    1728 non-null   bool \n",
      " 20  5_med    1728 non-null   bool \n",
      " 21  6_acc    1728 non-null   bool \n",
      " 22  6_good   1728 non-null   bool \n",
      " 23  6_unacc  1728 non-null   bool \n",
      " 24  6_vgood  1728 non-null   bool \n",
      "dtypes: bool(25)\n",
      "memory usage: 42.3 KB\n"
     ]
    },
    {
     "data": {
      "text/html": [
       "<div>\n",
       "<style scoped>\n",
       "    .dataframe tbody tr th:only-of-type {\n",
       "        vertical-align: middle;\n",
       "    }\n",
       "\n",
       "    .dataframe tbody tr th {\n",
       "        vertical-align: top;\n",
       "    }\n",
       "\n",
       "    .dataframe thead th {\n",
       "        text-align: right;\n",
       "    }\n",
       "</style>\n",
       "<table border=\"1\" class=\"dataframe\">\n",
       "  <thead>\n",
       "    <tr style=\"text-align: right;\">\n",
       "      <th></th>\n",
       "      <th>0_high</th>\n",
       "      <th>0_low</th>\n",
       "      <th>0_med</th>\n",
       "      <th>0_vhigh</th>\n",
       "      <th>1_high</th>\n",
       "      <th>1_low</th>\n",
       "      <th>1_med</th>\n",
       "      <th>1_vhigh</th>\n",
       "      <th>2_2</th>\n",
       "      <th>2_3</th>\n",
       "      <th>...</th>\n",
       "      <th>4_big</th>\n",
       "      <th>4_med</th>\n",
       "      <th>4_small</th>\n",
       "      <th>5_high</th>\n",
       "      <th>5_low</th>\n",
       "      <th>5_med</th>\n",
       "      <th>6_acc</th>\n",
       "      <th>6_good</th>\n",
       "      <th>6_unacc</th>\n",
       "      <th>6_vgood</th>\n",
       "    </tr>\n",
       "  </thead>\n",
       "  <tbody>\n",
       "    <tr>\n",
       "      <th>0</th>\n",
       "      <td>False</td>\n",
       "      <td>False</td>\n",
       "      <td>False</td>\n",
       "      <td>True</td>\n",
       "      <td>False</td>\n",
       "      <td>False</td>\n",
       "      <td>False</td>\n",
       "      <td>True</td>\n",
       "      <td>True</td>\n",
       "      <td>False</td>\n",
       "      <td>...</td>\n",
       "      <td>False</td>\n",
       "      <td>False</td>\n",
       "      <td>True</td>\n",
       "      <td>False</td>\n",
       "      <td>True</td>\n",
       "      <td>False</td>\n",
       "      <td>False</td>\n",
       "      <td>False</td>\n",
       "      <td>True</td>\n",
       "      <td>False</td>\n",
       "    </tr>\n",
       "    <tr>\n",
       "      <th>1</th>\n",
       "      <td>False</td>\n",
       "      <td>False</td>\n",
       "      <td>False</td>\n",
       "      <td>True</td>\n",
       "      <td>False</td>\n",
       "      <td>False</td>\n",
       "      <td>False</td>\n",
       "      <td>True</td>\n",
       "      <td>True</td>\n",
       "      <td>False</td>\n",
       "      <td>...</td>\n",
       "      <td>False</td>\n",
       "      <td>False</td>\n",
       "      <td>True</td>\n",
       "      <td>False</td>\n",
       "      <td>False</td>\n",
       "      <td>True</td>\n",
       "      <td>False</td>\n",
       "      <td>False</td>\n",
       "      <td>True</td>\n",
       "      <td>False</td>\n",
       "    </tr>\n",
       "    <tr>\n",
       "      <th>2</th>\n",
       "      <td>False</td>\n",
       "      <td>False</td>\n",
       "      <td>False</td>\n",
       "      <td>True</td>\n",
       "      <td>False</td>\n",
       "      <td>False</td>\n",
       "      <td>False</td>\n",
       "      <td>True</td>\n",
       "      <td>True</td>\n",
       "      <td>False</td>\n",
       "      <td>...</td>\n",
       "      <td>False</td>\n",
       "      <td>False</td>\n",
       "      <td>True</td>\n",
       "      <td>True</td>\n",
       "      <td>False</td>\n",
       "      <td>False</td>\n",
       "      <td>False</td>\n",
       "      <td>False</td>\n",
       "      <td>True</td>\n",
       "      <td>False</td>\n",
       "    </tr>\n",
       "    <tr>\n",
       "      <th>3</th>\n",
       "      <td>False</td>\n",
       "      <td>False</td>\n",
       "      <td>False</td>\n",
       "      <td>True</td>\n",
       "      <td>False</td>\n",
       "      <td>False</td>\n",
       "      <td>False</td>\n",
       "      <td>True</td>\n",
       "      <td>True</td>\n",
       "      <td>False</td>\n",
       "      <td>...</td>\n",
       "      <td>False</td>\n",
       "      <td>True</td>\n",
       "      <td>False</td>\n",
       "      <td>False</td>\n",
       "      <td>True</td>\n",
       "      <td>False</td>\n",
       "      <td>False</td>\n",
       "      <td>False</td>\n",
       "      <td>True</td>\n",
       "      <td>False</td>\n",
       "    </tr>\n",
       "    <tr>\n",
       "      <th>4</th>\n",
       "      <td>False</td>\n",
       "      <td>False</td>\n",
       "      <td>False</td>\n",
       "      <td>True</td>\n",
       "      <td>False</td>\n",
       "      <td>False</td>\n",
       "      <td>False</td>\n",
       "      <td>True</td>\n",
       "      <td>True</td>\n",
       "      <td>False</td>\n",
       "      <td>...</td>\n",
       "      <td>False</td>\n",
       "      <td>True</td>\n",
       "      <td>False</td>\n",
       "      <td>False</td>\n",
       "      <td>False</td>\n",
       "      <td>True</td>\n",
       "      <td>False</td>\n",
       "      <td>False</td>\n",
       "      <td>True</td>\n",
       "      <td>False</td>\n",
       "    </tr>\n",
       "  </tbody>\n",
       "</table>\n",
       "<p>5 rows × 25 columns</p>\n",
       "</div>"
      ],
      "text/plain": [
       "   0_high  0_low  0_med  0_vhigh  1_high  1_low  1_med  1_vhigh   2_2    2_3  \\\n",
       "0   False  False  False     True   False  False  False     True  True  False   \n",
       "1   False  False  False     True   False  False  False     True  True  False   \n",
       "2   False  False  False     True   False  False  False     True  True  False   \n",
       "3   False  False  False     True   False  False  False     True  True  False   \n",
       "4   False  False  False     True   False  False  False     True  True  False   \n",
       "\n",
       "   ...  4_big  4_med  4_small  5_high  5_low  5_med  6_acc  6_good  6_unacc  \\\n",
       "0  ...  False  False     True   False   True  False  False   False     True   \n",
       "1  ...  False  False     True   False  False   True  False   False     True   \n",
       "2  ...  False  False     True    True  False  False  False   False     True   \n",
       "3  ...  False   True    False   False   True  False  False   False     True   \n",
       "4  ...  False   True    False   False  False   True  False   False     True   \n",
       "\n",
       "   6_vgood  \n",
       "0    False  \n",
       "1    False  \n",
       "2    False  \n",
       "3    False  \n",
       "4    False  \n",
       "\n",
       "[5 rows x 25 columns]"
      ]
     },
     "execution_count": 34,
     "metadata": {},
     "output_type": "execute_result"
    }
   ],
   "source": [
    "# Read the dataset from the file\n",
    "data = pd.read_csv('car+evaluation/car.data', header=None)\n",
    "data = pd.get_dummies(data)\n",
    "\n",
    "# Display the first few rows of the dataset\n",
    "data.info()\n",
    "data.iloc[:5,:]"
   ]
  },
  {
   "cell_type": "code",
   "execution_count": 3,
   "metadata": {},
   "outputs": [],
   "source": [
    "#convert all columns to numeric\n",
    "for i in range(0, 6):\n",
    "    data[i] = pd.Categorical(data[i])\n",
    "    data[i] = data[i].cat.codes"
   ]
  },
  {
   "cell_type": "code",
   "execution_count": 4,
   "metadata": {
    "collapsed": false,
    "pycharm": {
     "name": "#%%\n"
    }
   },
   "outputs": [
    {
     "data": {
      "text/plain": [
       "array([[0.33333333, 1.        , 0.33333333, 0.5       , 1.        ,\n",
       "        0.        ],\n",
       "       [1.        , 0.33333333, 0.33333333, 0.5       , 0.        ,\n",
       "        1.        ],\n",
       "       [0.66666667, 0.        , 1.        , 1.        , 0.        ,\n",
       "        1.        ],\n",
       "       ...,\n",
       "       [0.        , 0.        , 0.66666667, 0.        , 1.        ,\n",
       "        0.        ],\n",
       "       [0.66666667, 1.        , 0.66666667, 1.        , 1.        ,\n",
       "        0.        ],\n",
       "       [1.        , 0.        , 0.66666667, 1.        , 0.5       ,\n",
       "        0.        ]])"
      ]
     },
     "execution_count": 4,
     "metadata": {},
     "output_type": "execute_result"
    }
   ],
   "source": [
    "from sklearn.model_selection import train_test_split\n",
    "from sklearn.preprocessing import MinMaxScaler\n",
    "\n",
    "columns = [0,1,2,3,4,5]\n",
    "\n",
    "train_X, test_X, train_y, test_y = train_test_split(data[columns], data[6].replace({'unacc': -1, 'acc': 1, 'good': 1, 'vgood': 1}), test_size=0.3)\n",
    "\n",
    "# Create an instance of the StandardScaler\n",
    "scaler = MinMaxScaler()\n",
    "\n",
    "# Normalize the data\n",
    "train_X = scaler.fit_transform(train_X)\n",
    "test_X = scaler.transform(test_X)\n",
    "\n",
    "train_X"
   ]
  },
  {
   "cell_type": "code",
   "execution_count": 5,
   "metadata": {
    "collapsed": false,
    "pycharm": {
     "name": "#%%\n"
    }
   },
   "outputs": [
    {
     "data": {
      "text/plain": [
       "array([[1.        , 0.23587708, 0.14915373, ..., 0.47897297, 0.78969293,\n",
       "        0.35780119],\n",
       "       [0.23587708, 1.        , 0.63233666, ..., 0.17620431, 0.23262366,\n",
       "        0.42269216],\n",
       "       [0.14915373, 0.63233666, 1.        , ..., 0.16901332, 0.21107209,\n",
       "        0.47897297],\n",
       "       ...,\n",
       "       [0.47897297, 0.17620431, 0.16901332, ..., 1.        , 0.29457483,\n",
       "        0.32465247],\n",
       "       [0.78969293, 0.23262366, 0.21107209, ..., 0.29457483, 1.        ,\n",
       "        0.50633562],\n",
       "       [0.35780119, 0.42269216, 0.47897297, ..., 0.32465247, 0.50633562,\n",
       "        1.        ]])"
      ]
     },
     "execution_count": 5,
     "metadata": {},
     "output_type": "execute_result"
    }
   ],
   "source": [
    "def gaussian_kernel(x, y, sigma=1.0):\n",
    "    return np.exp(-np.linalg.norm(x - y) ** 2 / (2 * (sigma ** 2)))\n",
    "def linear_kernel(x, y):\n",
    "    return np.dot(x, y)\n",
    "kernel_matrix = np.array([[gaussian_kernel(x, y) for y in train_X] for x in train_X])\n",
    "kernel_matrix\n"
   ]
  },
  {
   "cell_type": "code",
   "execution_count": 6,
   "metadata": {
    "collapsed": false,
    "pycharm": {
     "name": "#%%\n"
    }
   },
   "outputs": [
    {
     "name": "stdout",
     "output_type": "stream",
     "text": [
      "problem status:  optimal\n"
     ]
    }
   ],
   "source": [
    "alpha = cp.Variable((train_X.shape[0],1))\n",
    "outer_y = train_y.values.reshape((-1,1)) * train_y.values.reshape((-1,1)).T\n",
    "gram = outer_y * kernel_matrix\n",
    "objective = cp.Minimize(-cp.sum(alpha) + 0.5 * cp.quad_form(alpha, cp.psd_wrap(gram)))\n",
    "constraints = [0 <= alpha, alpha <= 1, train_y.values @ alpha == 0]\n",
    "\n",
    "problem = cp.Problem(objective, constraints)\n",
    "problem.solve(solver = cp.SCS)\n",
    "print(\"problem status: \",problem.status)"
   ]
  },
  {
   "cell_type": "code",
   "execution_count": 7,
   "metadata": {
    "collapsed": false,
    "pycharm": {
     "name": "#%%\n"
    }
   },
   "outputs": [
    {
     "name": "stdout",
     "output_type": "stream",
     "text": [
      "pridiction_type (array([-1.,  1.]), array([197, 322], dtype=int64))\n",
      "Accuracy: 0.6994219653179191\n"
     ]
    }
   ],
   "source": [
    "# support_vector_indices = np.where(alpha.value > 1e-5)[0]\n",
    "# support_vectors = train_X[support_vector_indices]\n",
    "# support_vector_labels = train_y.values[support_vector_indices]\n",
    "\n",
    "test_kernel_matrix = np.array([[gaussian_kernel(x, y) for y in test_X] for x in train_X])\n",
    "predictions = np.sign(np.sum(train_y.values.reshape((-1,1)) * alpha.value * test_kernel_matrix, axis=0))\n",
    "print('pridiction_type',np.unique(predictions,return_counts=True))\n",
    "accuracy = np.mean(predictions == test_y.values)\n",
    "\n",
    "print(f\"Accuracy: {accuracy}\")"
   ]
  },
  {
   "cell_type": "code",
   "execution_count": 8,
   "metadata": {},
   "outputs": [],
   "source": [
    "gamma_list = [0, 0.001, 0.005, 0.01, 0.05, 0.1, 1]\n",
    "train_X, test_X, train_y, test_y = train_test_split(data[columns], data[6], test_size=0.1)\n",
    "train_X = scaler.fit_transform(train_X)\n",
    "test_X = scaler.transform(test_X)"
   ]
  },
  {
   "cell_type": "code",
   "execution_count": 9,
   "metadata": {},
   "outputs": [],
   "source": [
    "\n",
    "# Train the SVM classifier\n",
    "def train_svm(X_train, y_train, X_test, y_test, gamma):\n",
    "    m = X_train.shape[0]\n",
    "    n = X_train.shape[1]\n",
    "    y_train = y_train.reshape((-1,1))\n",
    "    y_test = y_test.reshape((-1,1))\n",
    "    # L1 norm\n",
    "    w1 = cp.Variable((n,1))\n",
    "    b1 = cp.Variable()\n",
    "    n1 = cp.Variable((m,1))\n",
    "    const = np.ones((m,1))\n",
    "    constraints1 = [cp.multiply(y_train, (X_train @ w1 + b1)) >= const - n1, n1 >= 0]\n",
    "    objective1 = cp.Minimize(cp.norm1(w1) + gamma * cp.norm1(n1))\n",
    "    problem1 = cp.Problem(objective1, constraints1)\n",
    "    problem1.solve(verbose=False)\n",
    "    predictions1 = np.sign(X_test @ w1.value + b1.value)\n",
    "    accuracy1 = np.mean(predictions1 == y_test)\n",
    "\n",
    "    # L2 norm\n",
    "    w2 = cp.Variable((n,1))\n",
    "    b2 = cp.Variable()\n",
    "    n2 = cp.Variable((m,1))\n",
    "    constraints2 = [cp.multiply(y_train, (X_train @ w2 + b2)) >= const - n2, n2 >= 0]\n",
    "    objective2 = cp.Minimize(cp.norm2(w2) + gamma * cp.norm1(n2))\n",
    "    problem2 = cp.Problem(objective2, constraints2)\n",
    "    problem2.solve(verbose=False)\n",
    "    predictions2 = np.sign(X_test @ w2.value + b2.value)\n",
    "    accuracy2 = np.mean(predictions2 == y_test)\n",
    "\n",
    "\n",
    "    best_w = w1.value if accuracy1 > accuracy2 else w2.value\n",
    "    best_b = b1.value if accuracy1 > accuracy2 else b2.value\n",
    "    best_accuracy = accuracy1 if accuracy1 > accuracy2 else accuracy2\n",
    "    return best_w, best_b, best_accuracy"
   ]
  },
  {
   "cell_type": "code",
   "execution_count": 10,
   "metadata": {},
   "outputs": [],
   "source": [
    "def get_best_model(X_train, y_train, X_test, y_test):\n",
    "    best_accuracy = 0\n",
    "    best_w = None\n",
    "    best_b = None\n",
    "    for gamma in gamma_list:\n",
    "        w, b, accuracy = train_svm(X_train, y_train, X_test, y_test, gamma)\n",
    "        if accuracy > best_accuracy:\n",
    "            best_accuracy = accuracy\n",
    "            best_w = w\n",
    "            best_b = b\n",
    "    return best_w, best_b, best_accuracy\n"
   ]
  },
  {
   "cell_type": "code",
   "execution_count": 11,
   "metadata": {},
   "outputs": [],
   "source": [
    "# Try different values of gamma\n",
    "def train_general():\n",
    "    # Train a SVM classifier, suppose acceptable is -1 and unacceptable, good, very good are 1\n",
    "    train_y1 = train_y.replace({'unacc': -1, 'acc': 1, 'good': 1, 'vgood': 1}).values\n",
    "    test_y1 = test_y.replace({'unacc': -1, 'acc': 1, 'good': 1, 'vgood': 1}).values\n",
    "    best_w1, best_b1, best_accuracy = get_best_model(train_X, train_y1, test_X, test_y1)\n",
    "    print('train_gegeral')\n",
    "    print('predict_y1_types', np.unique(np.sign(test_X @ best_w1 + best_b1), return_counts=True))\n",
    "    print(f\"Accuracy: {best_accuracy}\")\n",
    "\n",
    "def train_vote():\n",
    "    print('train_vote')\n",
    "    # Train a SVM classifier, suppose unacceptable is -1 and acceptable is 1\n",
    "    train_y2 = train_y[~train_y.isin(['good', 'vgood'])].replace({'unacc': -1, 'acc': 1}).values\n",
    "    test_y2 = test_y[~test_y.isin(['good', 'vgood'])].replace({'unacc': -1, 'acc': 1}).values\n",
    "    train_X2 = train_X[~train_y.isin(['good', 'vgood'])]\n",
    "    test_X2 = test_X[~test_y.isin(['good', 'vgood'])]\n",
    "    w2, b2, _ = get_best_model(train_X2, train_y2, test_X2, test_y2)\n",
    "    print('predict_y2_types', np.unique(np.sign(test_X2 @ w2 + b2), return_counts=True))\n",
    "    \n",
    "    # Train a SVM classifier, suppose unacceptable is -1 and good is 1\n",
    "    train_y3 = train_y[~train_y.isin(['acc', 'vgood'])].replace({'unacc': -1, 'good': 1}).values\n",
    "    test_y3 = test_y[~test_y.isin(['acc', 'vgood'])].replace({'unacc': -1, 'good': 1}).values\n",
    "    train_X3 = train_X[~train_y.isin(['acc', 'vgood'])]\n",
    "    test_X3 = test_X[~test_y.isin(['acc', 'vgood'])]\n",
    "    w3, b3, _ = get_best_model(train_X3, train_y3, test_X3, test_y3)\n",
    "    print('predict_y3_types', np.unique(np.sign(test_X3 @ w3 + b3), return_counts=True))\n",
    "    \n",
    "    # Train a SVM classifier, suppose unacceptable is -1 and very good is 1\n",
    "    train_y4 = train_y[~train_y.isin(['acc', 'good'])].replace({'unacc': -1, 'vgood': 1}).values\n",
    "    test_y4 = test_y[~test_y.isin(['acc', 'good'])].replace({'unacc': -1, 'vgood': 1}).values\n",
    "    train_X4 = train_X[~train_y.isin(['acc', 'good'])]\n",
    "    test_X4 = test_X[~test_y.isin(['acc', 'good'])]\n",
    "    w4, b4, _ = get_best_model(train_X4, train_y4, test_X4, test_y4)\n",
    "    print('predict_y4_types', np.unique(np.sign(test_X4 @ w4 + b4), return_counts=True))\n",
    "    \n",
    "    # The final prediction is the majority vote of the four SVM classifiers\n",
    "    def predict(X):\n",
    "        arr = np.array([np.sign(X @ w2 + b2), np.sign(X @ w3 + b3), np.sign(X @ w4 + b4)])\n",
    "        return np.sign(np.sum(arr, axis=0))\n",
    "    accuracy = np.mean(predict(test_X) == test_y.replace({'unacc': -1, 'acc': 1, 'good': 1, 'vgood': 1}).values)\n",
    "    print('predict_types', np.unique(predict(test_X), return_counts=True))\n",
    "    print(f\"Vote Accuracy: {accuracy}\")"
   ]
  },
  {
   "cell_type": "code",
   "execution_count": 12,
   "metadata": {},
   "outputs": [
    {
     "name": "stderr",
     "output_type": "stream",
     "text": [
      "c:\\Users\\11709\\anaconda3\\Lib\\site-packages\\cvxpy\\reductions\\solvers\\solving_chain.py:336: FutureWarning: \n",
      "    Your problem is being solved with the ECOS solver by default. Starting in \n",
      "    CVXPY 1.5.0, Clarabel will be used as the default solver instead. To continue \n",
      "    using ECOS, specify the ECOS solver explicitly using the ``solver=cp.ECOS`` \n",
      "    argument to the ``problem.solve`` method.\n",
      "    \n",
      "  warnings.warn(ECOS_DEPRECATION_MSG, FutureWarning)\n"
     ]
    },
    {
     "name": "stdout",
     "output_type": "stream",
     "text": [
      "train_gegeral\n",
      "predict_y1_types (array([-1.]), array([173], dtype=int64))\n",
      "Accuracy: 0.6705202312138728\n",
      "train_vote\n",
      "predict_y2_types (array([-1.]), array([159], dtype=int64))\n",
      "predict_y3_types (array([-1.]), array([123], dtype=int64))\n",
      "predict_y4_types (array([-1.,  1.]), array([119,   4], dtype=int64))\n",
      "predict_types (array([-1.]), array([173], dtype=int64))\n",
      "Vote Accuracy: 0.6705202312138728\n"
     ]
    }
   ],
   "source": [
    "train_general()\n",
    "train_vote()"
   ]
  },
  {
   "cell_type": "markdown",
   "metadata": {},
   "source": [
    "Hi! We plan to train four separate Support Vector Machine (SVM) models with a unique approach.\n",
    "\n",
    "There's four possible values in the target value: A B C D. \n",
    "\n",
    "First Model (Binary Classification for A): In the first model, category A will be labeled as '1', while B, C, and D will be labeled as '-1'. This model's primary objective is to differentiate category A from the others.\n",
    "\n",
    "Next Three Models (One-vs-One Approach): For the subsequent three models, we will employ a one-vs-one strategy where each model will differentiate A from one of the other categories (B, C, or D). Specifically, the models will be: A=1, B=-1; A=1, C=-1; and A=1, D=-1.\n",
    "\n",
    "Accuracy Evaluation in Three Phases:\n",
    "\n",
    "First Phase: we will evaluate the accuracy of the first model (A vs. BCD) independently.\n",
    "\n",
    "Second Phase: The second evaluation will involve the combined accuracy of the next three models. The prediction for each instance will be the majority vote from these models. If the majority vote is inconclusive, we'll randomly select between the two equally probable classes.\n",
    "\n",
    "Third Phase: The final accuracy evaluation will combine all four models. The prediction will again be based on the majority vote. In cases where there is a tie (two '1's and two '-1's), we will randomly select between '-1' and '1' for the final prediction.\n",
    "\n",
    "Do you find this approach feasible and valid for evaluating the performance of SVM models in a multi-class classification problem?\n"
   ]
  },
  {
   "cell_type": "code",
   "execution_count": 13,
   "metadata": {},
   "outputs": [
    {
     "name": "stdout",
     "output_type": "stream",
     "text": [
      "pred_train_types (array([1, 2], dtype=int64), array([877, 332], dtype=int64))\n",
      "Train Accuracy: 0.9776674937965261\n",
      "pred_test_types (array([1, 2], dtype=int64), array([365, 154], dtype=int64))\n",
      "Test Accuracy: 0.9441233140655106\n"
     ]
    }
   ],
   "source": [
    "from sklearn import svm\n",
    "# Split the data into a training set and a test set\n",
    "#X_train, X_test, y_train, y_test = train_test_split(data[columns], data[6], test_size=0.2, random_state=42)\n",
    "columns = [0,1,2,3,4,5]\n",
    "\n",
    "X_train, X_test, y_train, y_test = train_test_split(data[columns], data[6].replace({'unacc': 1, 'acc': 2, 'good': 2, 'vgood': 2}), test_size=0.3)\n",
    "\n",
    "# Create an instance of the StandardScaler\n",
    "scaler = MinMaxScaler()\n",
    "\n",
    "# Normalize the data\n",
    "train_X = scaler.fit_transform(train_X)\n",
    "test_X = scaler.transform(test_X)\n",
    "# Create a SVM classifier with the OvR strategy\n",
    "clf = svm.SVC(decision_function_shape='ovo')\n",
    "\n",
    "# Train the classifier\n",
    "clf.fit(X_train, y_train)\n",
    "\n",
    "#train accuracy\n",
    "y_pred = clf.predict(X_train)\n",
    "print('pred_train_types', np.unique(y_pred, return_counts=True))\n",
    "accuracy = np.mean(y_pred == y_train)\n",
    "print(f\"Train Accuracy: {accuracy}\")\n",
    "\n",
    "# Make predictions\n",
    "y_pred = clf.predict(X_test)\n",
    "print('pred_test_types', np.unique(y_pred, return_counts=True))\n",
    "# Evaluate the model\n",
    "accuracy = np.mean(y_pred == y_test)\n",
    "print(f\"Test Accuracy: {accuracy}\")"
   ]
  }
 ],
 "metadata": {
  "kernelspec": {
   "display_name": "base",
   "language": "python",
   "name": "python3"
  },
  "language_info": {
   "codemirror_mode": {
    "name": "ipython",
    "version": 3
   },
   "file_extension": ".py",
   "mimetype": "text/x-python",
   "name": "python",
   "nbconvert_exporter": "python",
   "pygments_lexer": "ipython3",
   "version": "3.11.5"
  }
 },
 "nbformat": 4,
 "nbformat_minor": 2
}
