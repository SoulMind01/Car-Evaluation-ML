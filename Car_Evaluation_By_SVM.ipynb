{
 "cells": [
  {
   "cell_type": "code",
   "execution_count": 1,
   "metadata": {},
   "outputs": [],
   "source": [
    "import cvxpy as cp\n",
    "import numpy as np\n",
    "import pandas as pd\n",
    "import matplotlib.pyplot as plt"
   ]
  },
  {
   "cell_type": "code",
   "execution_count": 53,
   "metadata": {},
   "outputs": [
    {
     "name": "stdout",
     "output_type": "stream",
     "text": [
      "       0      1  2  3      4     5      6\n",
      "0  vhigh  vhigh  2  2  small   low  unacc\n",
      "1  vhigh  vhigh  2  2  small   med  unacc\n",
      "2  vhigh  vhigh  2  2  small  high  unacc\n",
      "3  vhigh  vhigh  2  2    med   low  unacc\n",
      "4  vhigh  vhigh  2  2    med   med  unacc\n",
      "<class 'pandas.core.frame.DataFrame'>\n",
      "RangeIndex: 1728 entries, 0 to 1727\n",
      "Data columns (total 7 columns):\n",
      " #   Column  Non-Null Count  Dtype \n",
      "---  ------  --------------  ----- \n",
      " 0   0       1728 non-null   object\n",
      " 1   1       1728 non-null   object\n",
      " 2   2       1728 non-null   object\n",
      " 3   3       1728 non-null   object\n",
      " 4   4       1728 non-null   object\n",
      " 5   5       1728 non-null   object\n",
      " 6   6       1728 non-null   object\n",
      "dtypes: object(7)\n",
      "memory usage: 94.6+ KB\n"
     ]
    },
    {
     "data": {
      "text/plain": "array([-1,  1], dtype=int64)"
     },
     "execution_count": 53,
     "metadata": {},
     "output_type": "execute_result"
    }
   ],
   "source": [
    "# Read the dataset from the file\n",
    "data = pd.read_csv('car+evaluation/car.data', header=None)\n",
    "\n",
    "# Display the first few rows of the dataset\n",
    "print(data.head())\n",
    "data.info()\n",
    "unique_values = data[6].unique()\n",
    "data[6] = data[6].replace({'unacc': -1, 'acc': 1, 'good': 1, 'vgood': 1})\n",
    "data[6].unique()"
   ]
  },
  {
   "cell_type": "code",
   "execution_count": 54,
   "metadata": {},
   "outputs": [
    {
     "data": {
      "text/plain": "array([-1,  1], dtype=int64)"
     },
     "execution_count": 54,
     "metadata": {},
     "output_type": "execute_result"
    }
   ],
   "source": [
    "#convert all columns to numeric\n",
    "for i in range(0, 6):\n",
    "    data[i] = pd.Categorical(data[i])\n",
    "    data[i] = data[i].cat.codes\n",
    "\n",
    "data[6].unique()"
   ]
  },
  {
   "cell_type": "code",
   "execution_count": 55,
   "outputs": [
    {
     "data": {
      "text/plain": "array([[1.        , 0.66666667, 0.66666667, 0.        , 0.        ,\n        0.        ],\n       [1.        , 1.        , 0.        , 0.5       , 1.        ,\n        0.        ],\n       [0.66666667, 0.66666667, 0.33333333, 0.        , 0.5       ,\n        1.        ],\n       ...,\n       [0.        , 0.        , 1.        , 0.        , 1.        ,\n        0.5       ],\n       [0.66666667, 0.        , 0.33333333, 1.        , 0.5       ,\n        0.        ],\n       [0.33333333, 0.33333333, 1.        , 0.        , 1.        ,\n        0.5       ]])"
     },
     "execution_count": 55,
     "metadata": {},
     "output_type": "execute_result"
    }
   ],
   "source": [
    "from sklearn.model_selection import train_test_split\n",
    "from sklearn.preprocessing import MinMaxScaler\n",
    "\n",
    "columns = [0,1,2,3,4,5]\n",
    "\n",
    "train_X, test_X, train_y, test_y = train_test_split(data[columns], data[6], test_size=0.3)\n",
    "\n",
    "# Create an instance of the StandardScaler\n",
    "scaler = MinMaxScaler()\n",
    "\n",
    "# Normalize the data\n",
    "train_X = scaler.fit_transform(train_X)\n",
    "test_X = scaler.transform(test_X)\n",
    "\n",
    "train_X"
   ],
   "metadata": {
    "collapsed": false,
    "pycharm": {
     "name": "#%%\n"
    }
   }
  },
  {
   "cell_type": "code",
   "execution_count": 81,
   "outputs": [
    {
     "data": {
      "text/plain": "array([[1.        , 0.40544187, 0.47897297, ..., 0.24591292, 0.38353157,\n        0.38353157],\n       [0.40544187, 1.        , 0.39984965, ..., 0.17377394, 0.42269216,\n        0.30287217],\n       [0.47897297, 0.39984965, 1.        , ..., 0.39984965, 0.29457483,\n        0.55803515],\n       ...,\n       [0.24591292, 0.17377394, 0.39984965, ..., 1.        , 0.30287217,\n        0.89483932],\n       [0.38353157, 0.42269216, 0.29457483, ..., 0.30287217, 1.        ,\n        0.33846543],\n       [0.38353157, 0.30287217, 0.55803515, ..., 0.89483932, 0.33846543,\n        1.        ]])"
     },
     "execution_count": 81,
     "metadata": {},
     "output_type": "execute_result"
    }
   ],
   "source": [
    "def gaussian_kernel(x, y, sigma=1.0):\n",
    "    return np.exp(-np.linalg.norm(x - y) ** 2 / (2 * (sigma ** 2)))\n",
    "def linear_kernel(x, y):\n",
    "    return np.dot(x, y)\n",
    "kernel_matrix = np.array([[gaussian_kernel(x, y) for y in train_X] for x in train_X])\n",
    "kernel_matrix\n"
   ],
   "metadata": {
    "collapsed": false,
    "pycharm": {
     "name": "#%%\n"
    }
   }
  },
  {
   "cell_type": "code",
   "execution_count": 59,
   "outputs": [
    {
     "data": {
      "text/plain": "array([[ 1,  1,  1, ...,  1, -1,  1],\n       [ 1,  1,  1, ...,  1, -1,  1],\n       [ 1,  1,  1, ...,  1, -1,  1],\n       ...,\n       [ 1,  1,  1, ...,  1, -1,  1],\n       [-1, -1, -1, ..., -1,  1, -1],\n       [ 1,  1,  1, ...,  1, -1,  1]], dtype=int64)"
     },
     "execution_count": 59,
     "metadata": {},
     "output_type": "execute_result"
    }
   ],
   "source": [
    "np.outer(train_y, train_y)"
   ],
   "metadata": {
    "collapsed": false,
    "pycharm": {
     "name": "#%%\n"
    }
   }
  },
  {
   "cell_type": "code",
   "execution_count": 70,
   "outputs": [
    {
     "data": {
      "text/plain": "array([[ 1.88888889,  1.66666667,  1.33333333, ...,  0.66666667,\n        -0.88888889,  1.22222222],\n       [ 1.66666667,  3.25      ,  1.83333333, ...,  1.        ,\n        -1.66666667,  1.66666667],\n       [ 1.33333333,  1.83333333,  2.25      , ...,  1.33333333,\n        -0.80555556,  1.77777778],\n       ...,\n       [ 0.66666667,  1.        ,  1.33333333, ...,  2.25      ,\n        -0.83333333,  2.25      ],\n       [-0.88888889, -1.66666667, -0.80555556, ..., -0.83333333,\n         1.80555556, -1.05555556],\n       [ 1.22222222,  1.66666667,  1.77777778, ...,  2.25      ,\n        -1.05555556,  2.47222222]])"
     },
     "execution_count": 70,
     "metadata": {},
     "output_type": "execute_result"
    }
   ],
   "source": [
    "outer_y * kernel_matrix"
   ],
   "metadata": {
    "collapsed": false,
    "pycharm": {
     "name": "#%%\n"
    }
   }
  },
  {
   "cell_type": "code",
   "execution_count": 83,
   "outputs": [
    {
     "name": "stdout",
     "output_type": "stream",
     "text": [
      "problem status:  optimal\n"
     ]
    }
   ],
   "source": [
    "alpha = cp.Variable((train_X.shape[0],1))\n",
    "outer_y = train_y.values.reshape((-1,1)) * train_y.values.reshape((-1,1)).T\n",
    "gram = outer_y * kernel_matrix\n",
    "objective = cp.Minimize(-cp.sum(alpha) + 0.5 * cp.quad_form(alpha, cp.psd_wrap(gram)))\n",
    "constraints = [0 <= alpha, alpha <= 1, train_y.values @ alpha == 0]\n",
    "\n",
    "problem = cp.Problem(objective, constraints)\n",
    "problem.solve(solver = cp.SCS)\n",
    "print(\"problem status: \",problem.status)"
   ],
   "metadata": {
    "collapsed": false,
    "pycharm": {
     "name": "#%%\n"
    }
   }
  },
  {
   "cell_type": "code",
   "execution_count": 97,
   "outputs": [
    {
     "name": "stdout",
     "output_type": "stream",
     "text": [
      "Accuracy: 0.789980732177264\n"
     ]
    }
   ],
   "source": [
    "# support_vector_indices = np.where(alpha.value > 1e-5)[0]\n",
    "# support_vectors = train_X[support_vector_indices]\n",
    "# support_vector_labels = train_y.values[support_vector_indices]\n",
    "\n",
    "test_kernel_matrix = np.array([[gaussian_kernel(x, y) for y in test_X] for x in train_X])\n",
    "predictions = np.sign(np.sum(train_y.values.reshape((-1,1)) * alpha.value * test_kernel_matrix, axis=0))\n",
    "\n",
    "accuracy = np.mean(predictions == test_y.values)\n",
    "print(f\"Accuracy: {accuracy}\")"
   ],
   "metadata": {
    "collapsed": false,
    "pycharm": {
     "name": "#%%\n"
    }
   }
  },
  {
   "cell_type": "code",
   "execution_count": null,
   "outputs": [],
   "source": [
    "training_data = data.sample(frac=0.8, random_state=0)\n",
    "test_data = data.drop(training_data.index)\n",
    "# Extract the features and labels from the dataset\n",
    "X = training_data.iloc[:, :-1].values\n",
    "y = training_data.iloc[:, -1].values.reshape(X.shape[0], 1)\n",
    "\n",
    "# Define the SVM variables\n",
    "w = cp.Variable((X.shape[1],1))\n",
    "b = cp.Variable()\n",
    "n = cp.Variable((X.shape[0],1))\n",
    "const = np.ones((X.shape[0],1))\n",
    "\n",
    "# Define the SVM constraints\n",
    "constraints = [cp.multiply(y, (X @ w + b)) >= const - n, n >= 0]\n",
    "\n",
    "# Define the objective function to minimize the sum of the regularization term\n",
    "objective = cp.Minimize(cp.norm2(w) + cp.norm1(n))\n",
    "\n",
    "# Define the SVM problem\n",
    "problem = cp.Problem(objective, constraints)\n",
    "\n",
    "# Solve the SVM problem\n",
    "problem.solve()\n",
    "\n",
    "# Print the accuracy\n",
    "accuracy = np.mean(np.sign(X @ w.value + b.value) == y)\n",
    "print(accuracy)\n"
   ],
   "metadata": {
    "collapsed": false,
    "pycharm": {
     "name": "#%%\n"
    }
   }
  },
  {
   "cell_type": "code",
   "execution_count": 53,
   "metadata": {},
   "outputs": [
    {
     "ename": "ValueError",
     "evalue": "x and y must be the same size",
     "output_type": "error",
     "traceback": [
      "\u001B[1;31m---------------------------------------------------------------------------\u001B[0m",
      "\u001B[1;31mValueError\u001B[0m                                Traceback (most recent call last)",
      "\u001B[1;32mc:\\Users\\11709\\Desktop\\UCSB\\Optimization\\project\\project.ipynb Cell 6\u001B[0m line \u001B[0;36m2\n\u001B[0;32m      <a href='vscode-notebook-cell:/c%3A/Users/11709/Desktop/UCSB/Optimization/project/project.ipynb#X10sZmlsZQ%3D%3D?line=0'>1</a>\u001B[0m \u001B[39m# Plot the scatter points\u001B[39;00m\n\u001B[1;32m----> <a href='vscode-notebook-cell:/c%3A/Users/11709/Desktop/UCSB/Optimization/project/project.ipynb#X10sZmlsZQ%3D%3D?line=1'>2</a>\u001B[0m plt\u001B[39m.\u001B[39mscatter(X[:, \u001B[39m1\u001B[39m:\u001B[39m6\u001B[39m], X[:, \u001B[39m0\u001B[39m], c\u001B[39m=\u001B[39my)\n\u001B[0;32m      <a href='vscode-notebook-cell:/c%3A/Users/11709/Desktop/UCSB/Optimization/project/project.ipynb#X10sZmlsZQ%3D%3D?line=2'>3</a>\u001B[0m plt\u001B[39m.\u001B[39mxlabel(\u001B[39m'\u001B[39m\u001B[39mFeatures 1-5\u001B[39m\u001B[39m'\u001B[39m)\n\u001B[0;32m      <a href='vscode-notebook-cell:/c%3A/Users/11709/Desktop/UCSB/Optimization/project/project.ipynb#X10sZmlsZQ%3D%3D?line=3'>4</a>\u001B[0m plt\u001B[39m.\u001B[39mylabel(\u001B[39m'\u001B[39m\u001B[39mFeature 0\u001B[39m\u001B[39m'\u001B[39m)\n",
      "File \u001B[1;32mc:\\Users\\11709\\anaconda3\\Lib\\site-packages\\matplotlib\\pyplot.py:2862\u001B[0m, in \u001B[0;36mscatter\u001B[1;34m(x, y, s, c, marker, cmap, norm, vmin, vmax, alpha, linewidths, edgecolors, plotnonfinite, data, **kwargs)\u001B[0m\n\u001B[0;32m   2857\u001B[0m \u001B[39m@_copy_docstring_and_deprecators\u001B[39m(Axes\u001B[39m.\u001B[39mscatter)\n\u001B[0;32m   2858\u001B[0m \u001B[39mdef\u001B[39;00m \u001B[39mscatter\u001B[39m(\n\u001B[0;32m   2859\u001B[0m         x, y, s\u001B[39m=\u001B[39m\u001B[39mNone\u001B[39;00m, c\u001B[39m=\u001B[39m\u001B[39mNone\u001B[39;00m, marker\u001B[39m=\u001B[39m\u001B[39mNone\u001B[39;00m, cmap\u001B[39m=\u001B[39m\u001B[39mNone\u001B[39;00m, norm\u001B[39m=\u001B[39m\u001B[39mNone\u001B[39;00m,\n\u001B[0;32m   2860\u001B[0m         vmin\u001B[39m=\u001B[39m\u001B[39mNone\u001B[39;00m, vmax\u001B[39m=\u001B[39m\u001B[39mNone\u001B[39;00m, alpha\u001B[39m=\u001B[39m\u001B[39mNone\u001B[39;00m, linewidths\u001B[39m=\u001B[39m\u001B[39mNone\u001B[39;00m, \u001B[39m*\u001B[39m,\n\u001B[0;32m   2861\u001B[0m         edgecolors\u001B[39m=\u001B[39m\u001B[39mNone\u001B[39;00m, plotnonfinite\u001B[39m=\u001B[39m\u001B[39mFalse\u001B[39;00m, data\u001B[39m=\u001B[39m\u001B[39mNone\u001B[39;00m, \u001B[39m*\u001B[39m\u001B[39m*\u001B[39mkwargs):\n\u001B[1;32m-> 2862\u001B[0m     __ret \u001B[39m=\u001B[39m gca()\u001B[39m.\u001B[39mscatter(\n\u001B[0;32m   2863\u001B[0m         x, y, s\u001B[39m=\u001B[39ms, c\u001B[39m=\u001B[39mc, marker\u001B[39m=\u001B[39mmarker, cmap\u001B[39m=\u001B[39mcmap, norm\u001B[39m=\u001B[39mnorm,\n\u001B[0;32m   2864\u001B[0m         vmin\u001B[39m=\u001B[39mvmin, vmax\u001B[39m=\u001B[39mvmax, alpha\u001B[39m=\u001B[39malpha, linewidths\u001B[39m=\u001B[39mlinewidths,\n\u001B[0;32m   2865\u001B[0m         edgecolors\u001B[39m=\u001B[39medgecolors, plotnonfinite\u001B[39m=\u001B[39mplotnonfinite,\n\u001B[0;32m   2866\u001B[0m         \u001B[39m*\u001B[39m\u001B[39m*\u001B[39m({\u001B[39m\"\u001B[39m\u001B[39mdata\u001B[39m\u001B[39m\"\u001B[39m: data} \u001B[39mif\u001B[39;00m data \u001B[39mis\u001B[39;00m \u001B[39mnot\u001B[39;00m \u001B[39mNone\u001B[39;00m \u001B[39melse\u001B[39;00m {}), \u001B[39m*\u001B[39m\u001B[39m*\u001B[39mkwargs)\n\u001B[0;32m   2867\u001B[0m     sci(__ret)\n\u001B[0;32m   2868\u001B[0m     \u001B[39mreturn\u001B[39;00m __ret\n",
      "File \u001B[1;32mc:\\Users\\11709\\anaconda3\\Lib\\site-packages\\matplotlib\\__init__.py:1446\u001B[0m, in \u001B[0;36m_preprocess_data.<locals>.inner\u001B[1;34m(ax, data, *args, **kwargs)\u001B[0m\n\u001B[0;32m   1443\u001B[0m \u001B[39m@functools\u001B[39m\u001B[39m.\u001B[39mwraps(func)\n\u001B[0;32m   1444\u001B[0m \u001B[39mdef\u001B[39;00m \u001B[39minner\u001B[39m(ax, \u001B[39m*\u001B[39margs, data\u001B[39m=\u001B[39m\u001B[39mNone\u001B[39;00m, \u001B[39m*\u001B[39m\u001B[39m*\u001B[39mkwargs):\n\u001B[0;32m   1445\u001B[0m     \u001B[39mif\u001B[39;00m data \u001B[39mis\u001B[39;00m \u001B[39mNone\u001B[39;00m:\n\u001B[1;32m-> 1446\u001B[0m         \u001B[39mreturn\u001B[39;00m func(ax, \u001B[39m*\u001B[39m\u001B[39mmap\u001B[39m(sanitize_sequence, args), \u001B[39m*\u001B[39m\u001B[39m*\u001B[39mkwargs)\n\u001B[0;32m   1448\u001B[0m     bound \u001B[39m=\u001B[39m new_sig\u001B[39m.\u001B[39mbind(ax, \u001B[39m*\u001B[39margs, \u001B[39m*\u001B[39m\u001B[39m*\u001B[39mkwargs)\n\u001B[0;32m   1449\u001B[0m     auto_label \u001B[39m=\u001B[39m (bound\u001B[39m.\u001B[39marguments\u001B[39m.\u001B[39mget(label_namer)\n\u001B[0;32m   1450\u001B[0m                   \u001B[39mor\u001B[39;00m bound\u001B[39m.\u001B[39mkwargs\u001B[39m.\u001B[39mget(label_namer))\n",
      "File \u001B[1;32mc:\\Users\\11709\\anaconda3\\Lib\\site-packages\\matplotlib\\axes\\_axes.py:4578\u001B[0m, in \u001B[0;36mAxes.scatter\u001B[1;34m(self, x, y, s, c, marker, cmap, norm, vmin, vmax, alpha, linewidths, edgecolors, plotnonfinite, **kwargs)\u001B[0m\n\u001B[0;32m   4576\u001B[0m y \u001B[39m=\u001B[39m np\u001B[39m.\u001B[39mma\u001B[39m.\u001B[39mravel(y)\n\u001B[0;32m   4577\u001B[0m \u001B[39mif\u001B[39;00m x\u001B[39m.\u001B[39msize \u001B[39m!=\u001B[39m y\u001B[39m.\u001B[39msize:\n\u001B[1;32m-> 4578\u001B[0m     \u001B[39mraise\u001B[39;00m \u001B[39mValueError\u001B[39;00m(\u001B[39m\"\u001B[39m\u001B[39mx and y must be the same size\u001B[39m\u001B[39m\"\u001B[39m)\n\u001B[0;32m   4580\u001B[0m \u001B[39mif\u001B[39;00m s \u001B[39mis\u001B[39;00m \u001B[39mNone\u001B[39;00m:\n\u001B[0;32m   4581\u001B[0m     s \u001B[39m=\u001B[39m (\u001B[39m20\u001B[39m \u001B[39mif\u001B[39;00m mpl\u001B[39m.\u001B[39mrcParams[\u001B[39m'\u001B[39m\u001B[39m_internal.classic_mode\u001B[39m\u001B[39m'\u001B[39m] \u001B[39melse\u001B[39;00m\n\u001B[0;32m   4582\u001B[0m          mpl\u001B[39m.\u001B[39mrcParams[\u001B[39m'\u001B[39m\u001B[39mlines.markersize\u001B[39m\u001B[39m'\u001B[39m] \u001B[39m*\u001B[39m\u001B[39m*\u001B[39m \u001B[39m2.0\u001B[39m)\n",
      "\u001B[1;31mValueError\u001B[0m: x and y must be the same size"
     ]
    },
    {
     "data": {
      "image/png": "[encoded data removed]",
      "text/plain": [
       "<Figure size 640x480 with 1 Axes>"
      ]
     },
     "metadata": {},
     "output_type": "display_data"
    }
   ],
   "source": [
    "# Plot the scatter points\n",
    "plt.scatter(X[:, 1:6], X[:, 0], c=y)\n",
    "plt.xlabel('Features 1-5')\n",
    "plt.ylabel('Feature 0')\n",
    "plt.title('SVM Model')\n",
    "plt.show()\n"
   ]
  },
  {
   "cell_type": "markdown",
   "metadata": {},
   "source": [
    "Hi! We plan to train four separate Support Vector Machine (SVM) models with a unique approach.\n",
    "\n",
    "There's four possible values in the target value: A B C D. \n",
    "\n",
    "First Model (Binary Classification for A): In the first model, category A will be labeled as '1', while B, C, and D will be labeled as '-1'. This model's primary objective is to differentiate category A from the others.\n",
    "\n",
    "Next Three Models (One-vs-One Approach): For the subsequent three models, we will employ a one-vs-one strategy where each model will differentiate A from one of the other categories (B, C, or D). Specifically, the models will be: A=1, B=-1; A=1, C=-1; and A=1, D=-1.\n",
    "\n",
    "Accuracy Evaluation in Three Phases:\n",
    "\n",
    "First Phase: we will evaluate the accuracy of the first model (A vs. BCD) independently.\n",
    "\n",
    "Second Phase: The second evaluation will involve the combined accuracy of the next three models. The prediction for each instance will be the majority vote from these models. If the majority vote is inconclusive, we'll randomly select between the two equally probable classes.\n",
    "\n",
    "Third Phase: The final accuracy evaluation will combine all four models. The prediction will again be based on the majority vote. In cases where there is a tie (two '1's and two '-1's), we will randomly select between '-1' and '1' for the final prediction.\n",
    "\n",
    "Do you find this approach feasible and valid for evaluating the performance of SVM models in a multi-class classification problem?\n"
   ]
  }
 ],
 "metadata": {
  "kernelspec": {
   "display_name": "base",
   "language": "python",
   "name": "python3"
  },
  "language_info": {
   "codemirror_mode": {
    "name": "ipython",
    "version": 3
   },
   "file_extension": ".py",
   "mimetype": "text/x-python",
   "name": "python",
   "nbconvert_exporter": "python",
   "pygments_lexer": "ipython3",
   "version": "3.11.5"
  }
 },
 "nbformat": 4,
 "nbformat_minor": 2
}